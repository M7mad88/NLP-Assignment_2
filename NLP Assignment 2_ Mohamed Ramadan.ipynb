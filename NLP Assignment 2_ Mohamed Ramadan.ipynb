{
 "cells": [
  {
   "cell_type": "markdown",
   "metadata": {},
   "source": [
    "# 1. Mention and define the NLTK steps."
   ]
  },
  {
   "cell_type": "markdown",
   "metadata": {},
   "source": [
    "* Tokenization\n",
    "* Lower case conversion\n",
    "* Stop words removal\n",
    "* Stemming\n",
    "* Lemmatization\n",
    "* Parse tree\n",
    "* POS Tagging"
   ]
  },
  {
   "cell_type": "markdown",
   "metadata": {},
   "source": [
    "# 2. What different types of segmentation are there?"
   ]
  },
  {
   "cell_type": "markdown",
   "metadata": {},
   "source": [
    "Text Segmentation Metrics types:\n",
    "\n",
    "* Windowdiff\n",
    "* Generalized Hamming Distance\n",
    "* PK Text Segmentation"
   ]
  },
  {
   "cell_type": "markdown",
   "metadata": {},
   "source": [
    "# 3. Explain the method of recognising named entities."
   ]
  },
  {
   "cell_type": "markdown",
   "metadata": {},
   "source": [
    "NER is a NLP technique that can automatically sacn entire articles and pull out some fundamental entities in a text and classify them into predefined categories.\n",
    "such as:\n",
    "* Person\n",
    "* Organization\n",
    "* Place/Location"
   ]
  },
  {
   "cell_type": "markdown",
   "metadata": {},
   "source": [
    "# 4. Make a list of the elements of NLP."
   ]
  },
  {
   "cell_type": "markdown",
   "metadata": {},
   "source": [
    "The five phases of NLP involove:\n",
    "* Lexical Analysis\n",
    "* Syntatic Analysis\n",
    "* Semantic Analysis\n",
    "* Discourse Integration\n",
    "* Pragmetic Analysis"
   ]
  },
  {
   "cell_type": "markdown",
   "metadata": {},
   "source": [
    "# 5. Give an example of pragmatic analysis."
   ]
  },
  {
   "cell_type": "markdown",
   "metadata": {},
   "source": [
    "It is a set of logical and linguistic tools to understand sentences in different situations and how the interpretation of the sentence is affected.\n",
    "\n",
    "Ex: \"close the window?\" should be interpreted as arequest instead of an order."
   ]
  },
  {
   "cell_type": "markdown",
   "metadata": {},
   "source": [
    "# 6. Explain the morphological and lexical analysis procedure."
   ]
  },
  {
   "cell_type": "markdown",
   "metadata": {},
   "source": [
    "Morphological: Study the construction of words from primitive meaningful units \n",
    "\n",
    "Lexical: It involves identifying and analyzing the structure of words. Lexical analysis is dividing the whole chunk of text into paragraphs, sentences and words."
   ]
  }
 ],
 "metadata": {
  "kernelspec": {
   "display_name": "Python 3",
   "language": "python",
   "name": "python3"
  },
  "language_info": {
   "codemirror_mode": {
    "name": "ipython",
    "version": 3
   },
   "file_extension": ".py",
   "mimetype": "text/x-python",
   "name": "python",
   "nbconvert_exporter": "python",
   "pygments_lexer": "ipython3",
   "version": "3.7.3"
  }
 },
 "nbformat": 4,
 "nbformat_minor": 2
}
